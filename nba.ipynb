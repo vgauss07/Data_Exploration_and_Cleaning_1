{
 "cells": [
  {
   "cell_type": "code",
   "execution_count": 1,
   "metadata": {
    "collapsed": true
   },
   "outputs": [],
   "source": [
    "from nba_api.stats.static import teams\n",
    "nba_teams = teams.get_teams()"
   ]
  },
  {
   "cell_type": "code",
   "execution_count": 2,
   "outputs": [
    {
     "data": {
      "text/plain": "[{'id': 1610612737,\n  'full_name': 'Atlanta Hawks',\n  'abbreviation': 'ATL',\n  'nickname': 'Hawks',\n  'city': 'Atlanta',\n  'state': 'Atlanta',\n  'year_founded': 1949},\n {'id': 1610612738,\n  'full_name': 'Boston Celtics',\n  'abbreviation': 'BOS',\n  'nickname': 'Celtics',\n  'city': 'Boston',\n  'state': 'Massachusetts',\n  'year_founded': 1946},\n {'id': 1610612739,\n  'full_name': 'Cleveland Cavaliers',\n  'abbreviation': 'CLE',\n  'nickname': 'Cavaliers',\n  'city': 'Cleveland',\n  'state': 'Ohio',\n  'year_founded': 1970},\n {'id': 1610612740,\n  'full_name': 'New Orleans Pelicans',\n  'abbreviation': 'NOP',\n  'nickname': 'Pelicans',\n  'city': 'New Orleans',\n  'state': 'Louisiana',\n  'year_founded': 2002},\n {'id': 1610612741,\n  'full_name': 'Chicago Bulls',\n  'abbreviation': 'CHI',\n  'nickname': 'Bulls',\n  'city': 'Chicago',\n  'state': 'Illinois',\n  'year_founded': 1966},\n {'id': 1610612742,\n  'full_name': 'Dallas Mavericks',\n  'abbreviation': 'DAL',\n  'nickname': 'Mavericks',\n  'city': 'Dallas',\n  'state': 'Texas',\n  'year_founded': 1980},\n {'id': 1610612743,\n  'full_name': 'Denver Nuggets',\n  'abbreviation': 'DEN',\n  'nickname': 'Nuggets',\n  'city': 'Denver',\n  'state': 'Colorado',\n  'year_founded': 1976},\n {'id': 1610612744,\n  'full_name': 'Golden State Warriors',\n  'abbreviation': 'GSW',\n  'nickname': 'Warriors',\n  'city': 'Golden State',\n  'state': 'California',\n  'year_founded': 1946},\n {'id': 1610612745,\n  'full_name': 'Houston Rockets',\n  'abbreviation': 'HOU',\n  'nickname': 'Rockets',\n  'city': 'Houston',\n  'state': 'Texas',\n  'year_founded': 1967},\n {'id': 1610612746,\n  'full_name': 'Los Angeles Clippers',\n  'abbreviation': 'LAC',\n  'nickname': 'Clippers',\n  'city': 'Los Angeles',\n  'state': 'California',\n  'year_founded': 1970},\n {'id': 1610612747,\n  'full_name': 'Los Angeles Lakers',\n  'abbreviation': 'LAL',\n  'nickname': 'Lakers',\n  'city': 'Los Angeles',\n  'state': 'California',\n  'year_founded': 1948},\n {'id': 1610612748,\n  'full_name': 'Miami Heat',\n  'abbreviation': 'MIA',\n  'nickname': 'Heat',\n  'city': 'Miami',\n  'state': 'Florida',\n  'year_founded': 1988},\n {'id': 1610612749,\n  'full_name': 'Milwaukee Bucks',\n  'abbreviation': 'MIL',\n  'nickname': 'Bucks',\n  'city': 'Milwaukee',\n  'state': 'Wisconsin',\n  'year_founded': 1968},\n {'id': 1610612750,\n  'full_name': 'Minnesota Timberwolves',\n  'abbreviation': 'MIN',\n  'nickname': 'Timberwolves',\n  'city': 'Minnesota',\n  'state': 'Minnesota',\n  'year_founded': 1989},\n {'id': 1610612751,\n  'full_name': 'Brooklyn Nets',\n  'abbreviation': 'BKN',\n  'nickname': 'Nets',\n  'city': 'Brooklyn',\n  'state': 'New York',\n  'year_founded': 1976},\n {'id': 1610612752,\n  'full_name': 'New York Knicks',\n  'abbreviation': 'NYK',\n  'nickname': 'Knicks',\n  'city': 'New York',\n  'state': 'New York',\n  'year_founded': 1946},\n {'id': 1610612753,\n  'full_name': 'Orlando Magic',\n  'abbreviation': 'ORL',\n  'nickname': 'Magic',\n  'city': 'Orlando',\n  'state': 'Florida',\n  'year_founded': 1989},\n {'id': 1610612754,\n  'full_name': 'Indiana Pacers',\n  'abbreviation': 'IND',\n  'nickname': 'Pacers',\n  'city': 'Indiana',\n  'state': 'Indiana',\n  'year_founded': 1976},\n {'id': 1610612755,\n  'full_name': 'Philadelphia 76ers',\n  'abbreviation': 'PHI',\n  'nickname': '76ers',\n  'city': 'Philadelphia',\n  'state': 'Pennsylvania',\n  'year_founded': 1949},\n {'id': 1610612756,\n  'full_name': 'Phoenix Suns',\n  'abbreviation': 'PHX',\n  'nickname': 'Suns',\n  'city': 'Phoenix',\n  'state': 'Arizona',\n  'year_founded': 1968},\n {'id': 1610612757,\n  'full_name': 'Portland Trail Blazers',\n  'abbreviation': 'POR',\n  'nickname': 'Trail Blazers',\n  'city': 'Portland',\n  'state': 'Oregon',\n  'year_founded': 1970},\n {'id': 1610612758,\n  'full_name': 'Sacramento Kings',\n  'abbreviation': 'SAC',\n  'nickname': 'Kings',\n  'city': 'Sacramento',\n  'state': 'California',\n  'year_founded': 1948},\n {'id': 1610612759,\n  'full_name': 'San Antonio Spurs',\n  'abbreviation': 'SAS',\n  'nickname': 'Spurs',\n  'city': 'San Antonio',\n  'state': 'Texas',\n  'year_founded': 1976},\n {'id': 1610612760,\n  'full_name': 'Oklahoma City Thunder',\n  'abbreviation': 'OKC',\n  'nickname': 'Thunder',\n  'city': 'Oklahoma City',\n  'state': 'Oklahoma',\n  'year_founded': 1967},\n {'id': 1610612761,\n  'full_name': 'Toronto Raptors',\n  'abbreviation': 'TOR',\n  'nickname': 'Raptors',\n  'city': 'Toronto',\n  'state': 'Ontario',\n  'year_founded': 1995},\n {'id': 1610612762,\n  'full_name': 'Utah Jazz',\n  'abbreviation': 'UTA',\n  'nickname': 'Jazz',\n  'city': 'Utah',\n  'state': 'Utah',\n  'year_founded': 1974},\n {'id': 1610612763,\n  'full_name': 'Memphis Grizzlies',\n  'abbreviation': 'MEM',\n  'nickname': 'Grizzlies',\n  'city': 'Memphis',\n  'state': 'Tennessee',\n  'year_founded': 1995},\n {'id': 1610612764,\n  'full_name': 'Washington Wizards',\n  'abbreviation': 'WAS',\n  'nickname': 'Wizards',\n  'city': 'Washington',\n  'state': 'District of Columbia',\n  'year_founded': 1961},\n {'id': 1610612765,\n  'full_name': 'Detroit Pistons',\n  'abbreviation': 'DET',\n  'nickname': 'Pistons',\n  'city': 'Detroit',\n  'state': 'Michigan',\n  'year_founded': 1948},\n {'id': 1610612766,\n  'full_name': 'Charlotte Hornets',\n  'abbreviation': 'CHA',\n  'nickname': 'Hornets',\n  'city': 'Charlotte',\n  'state': 'North Carolina',\n  'year_founded': 1988}]"
     },
     "execution_count": 2,
     "metadata": {},
     "output_type": "execute_result"
    }
   ],
   "source": [
    "nba_teams"
   ],
   "metadata": {
    "collapsed": false,
    "pycharm": {
     "name": "#%%\n"
    }
   }
  },
  {
   "cell_type": "code",
   "execution_count": 3,
   "outputs": [],
   "source": [
    "def one_dict(list_dict):\n",
    "    keys = list_dict[0].keys()\n",
    "    out_dict = {key:[] for key in keys}\n",
    "\n",
    "    for dict_ in list_dict:\n",
    "        for key,value in dict_.items():\n",
    "            out_dict[key].append(value)\n",
    "    return out_dict\n",
    "\n",
    "dict_nba_team = one_dict(nba_teams)"
   ],
   "metadata": {
    "collapsed": false,
    "pycharm": {
     "name": "#%%\n"
    }
   }
  },
  {
   "cell_type": "code",
   "execution_count": 4,
   "outputs": [
    {
     "data": {
      "text/plain": "           id             full_name abbreviation   nickname         city  \\\n0  1610612737         Atlanta Hawks          ATL      Hawks      Atlanta   \n1  1610612738        Boston Celtics          BOS    Celtics       Boston   \n2  1610612739   Cleveland Cavaliers          CLE  Cavaliers    Cleveland   \n3  1610612740  New Orleans Pelicans          NOP   Pelicans  New Orleans   \n4  1610612741         Chicago Bulls          CHI      Bulls      Chicago   \n\n           state  year_founded  \n0        Atlanta          1949  \n1  Massachusetts          1946  \n2           Ohio          1970  \n3      Louisiana          2002  \n4       Illinois          1966  ",
      "text/html": "<div>\n<style scoped>\n    .dataframe tbody tr th:only-of-type {\n        vertical-align: middle;\n    }\n\n    .dataframe tbody tr th {\n        vertical-align: top;\n    }\n\n    .dataframe thead th {\n        text-align: right;\n    }\n</style>\n<table border=\"1\" class=\"dataframe\">\n  <thead>\n    <tr style=\"text-align: right;\">\n      <th></th>\n      <th>id</th>\n      <th>full_name</th>\n      <th>abbreviation</th>\n      <th>nickname</th>\n      <th>city</th>\n      <th>state</th>\n      <th>year_founded</th>\n    </tr>\n  </thead>\n  <tbody>\n    <tr>\n      <th>0</th>\n      <td>1610612737</td>\n      <td>Atlanta Hawks</td>\n      <td>ATL</td>\n      <td>Hawks</td>\n      <td>Atlanta</td>\n      <td>Atlanta</td>\n      <td>1949</td>\n    </tr>\n    <tr>\n      <th>1</th>\n      <td>1610612738</td>\n      <td>Boston Celtics</td>\n      <td>BOS</td>\n      <td>Celtics</td>\n      <td>Boston</td>\n      <td>Massachusetts</td>\n      <td>1946</td>\n    </tr>\n    <tr>\n      <th>2</th>\n      <td>1610612739</td>\n      <td>Cleveland Cavaliers</td>\n      <td>CLE</td>\n      <td>Cavaliers</td>\n      <td>Cleveland</td>\n      <td>Ohio</td>\n      <td>1970</td>\n    </tr>\n    <tr>\n      <th>3</th>\n      <td>1610612740</td>\n      <td>New Orleans Pelicans</td>\n      <td>NOP</td>\n      <td>Pelicans</td>\n      <td>New Orleans</td>\n      <td>Louisiana</td>\n      <td>2002</td>\n    </tr>\n    <tr>\n      <th>4</th>\n      <td>1610612741</td>\n      <td>Chicago Bulls</td>\n      <td>CHI</td>\n      <td>Bulls</td>\n      <td>Chicago</td>\n      <td>Illinois</td>\n      <td>1966</td>\n    </tr>\n  </tbody>\n</table>\n</div>"
     },
     "execution_count": 4,
     "metadata": {},
     "output_type": "execute_result"
    }
   ],
   "source": [
    "import pandas as pd\n",
    "df_teams = pd.DataFrame(dict_nba_team)\n",
    "df_teams.head()"
   ],
   "metadata": {
    "collapsed": false,
    "pycharm": {
     "name": "#%%\n"
    }
   }
  },
  {
   "cell_type": "code",
   "execution_count": 5,
   "outputs": [
    {
     "data": {
      "text/plain": "           id              full_name abbreviation  nickname          city  \\\n7  1610612744  Golden State Warriors          GSW  Warriors  Golden State   \n\n        state  year_founded  \n7  California          1946  ",
      "text/html": "<div>\n<style scoped>\n    .dataframe tbody tr th:only-of-type {\n        vertical-align: middle;\n    }\n\n    .dataframe tbody tr th {\n        vertical-align: top;\n    }\n\n    .dataframe thead th {\n        text-align: right;\n    }\n</style>\n<table border=\"1\" class=\"dataframe\">\n  <thead>\n    <tr style=\"text-align: right;\">\n      <th></th>\n      <th>id</th>\n      <th>full_name</th>\n      <th>abbreviation</th>\n      <th>nickname</th>\n      <th>city</th>\n      <th>state</th>\n      <th>year_founded</th>\n    </tr>\n  </thead>\n  <tbody>\n    <tr>\n      <th>7</th>\n      <td>1610612744</td>\n      <td>Golden State Warriors</td>\n      <td>GSW</td>\n      <td>Warriors</td>\n      <td>Golden State</td>\n      <td>California</td>\n      <td>1946</td>\n    </tr>\n  </tbody>\n</table>\n</div>"
     },
     "execution_count": 5,
     "metadata": {},
     "output_type": "execute_result"
    }
   ],
   "source": [
    "df_warriors = df_teams[df_teams['nickname'] == 'Warriors']\n",
    "df_warriors"
   ],
   "metadata": {
    "collapsed": false,
    "pycharm": {
     "name": "#%%\n"
    }
   }
  },
  {
   "cell_type": "code",
   "execution_count": 10,
   "outputs": [
    {
     "data": {
      "text/plain": "1610612744"
     },
     "execution_count": 10,
     "metadata": {},
     "output_type": "execute_result"
    }
   ],
   "source": [
    "id_warriors = df_warriors[['id']].values[0][0]\n",
    "id_warriors"
   ],
   "metadata": {
    "collapsed": false,
    "pycharm": {
     "name": "#%%\n"
    }
   }
  },
  {
   "cell_type": "code",
   "execution_count": 12,
   "outputs": [],
   "source": [
    "import pandas as pd\n",
    "import matplotlib.pyplot as plt\n",
    "from nba_api.stats.endpoints import leaguegamefinder"
   ],
   "metadata": {
    "collapsed": false,
    "pycharm": {
     "name": "#%%\n"
    }
   }
  },
  {
   "cell_type": "code",
   "execution_count": null,
   "outputs": [],
   "source": [],
   "metadata": {
    "collapsed": false,
    "pycharm": {
     "name": "#%%\n"
    }
   }
  }
 ],
 "metadata": {
  "kernelspec": {
   "display_name": "Python 3",
   "language": "python",
   "name": "python3"
  },
  "language_info": {
   "codemirror_mode": {
    "name": "ipython",
    "version": 2
   },
   "file_extension": ".py",
   "mimetype": "text/x-python",
   "name": "python",
   "nbconvert_exporter": "python",
   "pygments_lexer": "ipython2",
   "version": "2.7.6"
  }
 },
 "nbformat": 4,
 "nbformat_minor": 0
}