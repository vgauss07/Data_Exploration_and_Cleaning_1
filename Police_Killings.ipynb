{
 "cells": [
  {
   "cell_type": "code",
   "execution_count": 1,
   "metadata": {
    "collapsed": true
   },
   "outputs": [
    {
     "name": "stdout",
     "output_type": "stream",
     "text": [
      "              day    year    latitude   longitude    state_fp   county_fp  \\\n",
      "count  467.000000   467.0  467.000000  467.000000  467.000000  467.000000   \n",
      "mean    15.830835  2015.0   36.403224  -96.972666   25.342612   91.584582   \n",
      "std      8.658970     0.0    5.193357   16.953842   16.766458  110.185129   \n",
      "min      1.000000  2015.0   19.915194 -159.642700    1.000000    1.000000   \n",
      "25%      8.000000  2015.0   33.335240 -111.954636    8.000000   29.000000   \n",
      "50%     16.000000  2015.0   35.769779  -94.761902   24.000000   63.000000   \n",
      "75%     23.000000  2015.0   39.937452  -82.961582   40.000000  111.000000   \n",
      "max     31.000000  2015.0   61.218408  -68.100007   56.000000  740.000000   \n",
      "\n",
      "            tract_ce        geo_id     county_id           pop       h_income  \\\n",
      "count     467.000000  4.670000e+02    467.000000    467.000000     465.000000   \n",
      "mean   236936.614561  2.543443e+10  25434.197002   4783.719486   46627.182796   \n",
      "std    341262.721715  1.680140e+10  16801.379755   2374.565749   20511.194907   \n",
      "min       100.000000  1.003010e+09   1003.000000      0.000000   10290.000000   \n",
      "25%      5201.500000  8.022008e+09   8022.000000   3357.500000   32625.000000   \n",
      "50%     40200.000000  2.403380e+10  24033.000000   4447.000000   42759.000000   \n",
      "75%    378450.000000  4.011247e+10  40112.000000   5815.500000   56190.000000   \n",
      "max    980000.000000  5.600500e+10  56005.000000  26826.000000  142500.000000   \n",
      "\n",
      "       county_income  comp_income  county_bucket  nat_bucket       urate  \\\n",
      "count     467.000000   465.000000     440.000000  465.000000  465.000000   \n",
      "mean    52527.331906     0.895913       2.497727    2.496774    0.117399   \n",
      "std     12948.263811     0.333584       1.393115    1.298412    0.069175   \n",
      "min     22545.000000     0.184049       1.000000    1.000000    0.011335   \n",
      "25%     43804.000000     0.645365       1.000000    1.000000    0.068592   \n",
      "50%     50856.000000     0.869612       2.000000    2.000000    0.105181   \n",
      "75%     56832.000000     1.081454       4.000000    3.000000    0.140833   \n",
      "max    110292.000000     2.865216       5.000000    5.000000    0.507614   \n",
      "\n",
      "          college  \n",
      "count  465.000000  \n",
      "mean     0.220217  \n",
      "std      0.158347  \n",
      "min      0.013547  \n",
      "25%      0.106167  \n",
      "50%      0.169544  \n",
      "75%      0.284542  \n",
      "max      0.828070  \n"
     ]
    },
    {
     "data": {
      "text/plain": "Index(['name', 'age', 'gender', 'raceethnicity', 'month', 'day', 'year',\n       'streetaddress', 'city', 'state', 'latitude', 'longitude', 'state_fp',\n       'county_fp', 'tract_ce', 'geo_id', 'county_id', 'namelsad',\n       'lawenforcementagency', 'cause', 'armed', 'pop', 'share_white',\n       'share_black', 'share_hispanic', 'p_income', 'h_income',\n       'county_income', 'comp_income', 'county_bucket', 'nat_bucket', 'pov',\n       'urate', 'college'],\n      dtype='object')"
     },
     "execution_count": 1,
     "metadata": {},
     "output_type": "execute_result"
    }
   ],
   "source": [
    "import pandas as pd\n",
    "\n",
    "pK_path = '/Users/vokeojuederhie/PycharmProjects/police_killings.csv'\n",
    "\n",
    "# using pandas to read data\n",
    "# get familiar with the data\n",
    "# load the data\n",
    "\n",
    "pK_data = pd.read_csv(pK_path, encoding='latin-1')\n",
    "\n",
    "print(pK_data.describe())\n",
    "\n",
    "pK_data.columns\n"
   ]
  },
  {
   "cell_type": "code",
   "execution_count": 2,
   "outputs": [
    {
     "data": {
      "text/plain": "       nat_bucket\ncount  436.000000\nmean     2.502294\nstd      1.303398\nmin      1.000000\n25%      1.000000\n50%      2.000000\n75%      4.000000\nmax      5.000000",
      "text/html": "<div>\n<style scoped>\n    .dataframe tbody tr th:only-of-type {\n        vertical-align: middle;\n    }\n\n    .dataframe tbody tr th {\n        vertical-align: top;\n    }\n\n    .dataframe thead th {\n        text-align: right;\n    }\n</style>\n<table border=\"1\" class=\"dataframe\">\n  <thead>\n    <tr style=\"text-align: right;\">\n      <th></th>\n      <th>nat_bucket</th>\n    </tr>\n  </thead>\n  <tbody>\n    <tr>\n      <th>count</th>\n      <td>436.000000</td>\n    </tr>\n    <tr>\n      <th>mean</th>\n      <td>2.502294</td>\n    </tr>\n    <tr>\n      <th>std</th>\n      <td>1.303398</td>\n    </tr>\n    <tr>\n      <th>min</th>\n      <td>1.000000</td>\n    </tr>\n    <tr>\n      <th>25%</th>\n      <td>1.000000</td>\n    </tr>\n    <tr>\n      <th>50%</th>\n      <td>2.000000</td>\n    </tr>\n    <tr>\n      <th>75%</th>\n      <td>4.000000</td>\n    </tr>\n    <tr>\n      <th>max</th>\n      <td>5.000000</td>\n    </tr>\n  </tbody>\n</table>\n</div>"
     },
     "execution_count": 2,
     "metadata": {},
     "output_type": "execute_result"
    }
   ],
   "source": [
    "# Dropping missing values\n",
    "pK_data = pK_data.dropna(axis=0)\n",
    "\n",
    "y = pK_data.county_income\n",
    "\n",
    "pK_features = ['nat_bucket','share_black', 'share_hispanic', 'share_white']\n",
    "\n",
    "X = pK_data[pK_features]\n",
    "\n",
    "X.describe()"
   ],
   "metadata": {
    "collapsed": false,
    "pycharm": {
     "name": "#%%\n"
    }
   }
  },
  {
   "cell_type": "code",
   "execution_count": 3,
   "outputs": [
    {
     "data": {
      "text/plain": "DecisionTreeRegressor(ccp_alpha=0.0, criterion='mse', max_depth=None,\n                      max_features=None, max_leaf_nodes=None,\n                      min_impurity_decrease=0.0, min_impurity_split=None,\n                      min_samples_leaf=1, min_samples_split=2,\n                      min_weight_fraction_leaf=0.0, presort='deprecated',\n                      random_state=1, splitter='best')"
     },
     "execution_count": 3,
     "metadata": {},
     "output_type": "execute_result"
    }
   ],
   "source": [
    "# Model Specification\n",
    "\n",
    "from sklearn.tree import DecisionTreeRegressor\n",
    "\n",
    "# Define Model. Specify states to\n",
    "# ensure the same result each run\n",
    "\n",
    "pK_model = DecisionTreeRegressor(random_state=1)\n",
    "\n",
    "# Fit Model\n",
    "\n",
    "pK_model.fit(X,y)"
   ],
   "metadata": {
    "collapsed": false,
    "pycharm": {
     "name": "#%%\n"
    }
   }
  },
  {
   "cell_type": "code",
   "execution_count": 4,
   "outputs": [
    {
     "name": "stdout",
     "output_type": "stream",
     "text": [
      "For the first 5 victims: \n",
      "   nat_bucket share_black share_hispanic share_white\n",
      "0         3.0        30.5            5.6        60.5\n",
      "1         1.0        36.2            0.5        53.8\n",
      "2         3.0         7.7           16.8        73.8\n",
      "3         3.0         0.6           98.8         1.2\n",
      "4         4.0         1.4            1.7        92.5\n",
      "The predictions are: \n",
      "[54766. 40930. 54930. 55909. 49669.]\n"
     ]
    }
   ],
   "source": [
    "# Model Prediction\n",
    "# listing the first few victims\n",
    "\n",
    "print(\"For the first 5 victims: \")\n",
    "print(X.head())\n",
    "\n",
    "# Making predictions for these victims\n",
    "print(\"The predictions are: \")\n",
    "print(pK_model.predict(X.head()))"
   ],
   "metadata": {
    "collapsed": false,
    "pycharm": {
     "name": "#%%\n"
    }
   }
  },
  {
   "cell_type": "code",
   "execution_count": 5,
   "outputs": [
    {
     "name": "stdout",
     "output_type": "stream",
     "text": [
      "0.0\n"
     ]
    }
   ],
   "source": [
    "# Model Validation\n",
    "from sklearn.metrics import mean_absolute_error\n",
    "\n",
    "predicted_victims = pK_model.predict(X)\n",
    "mean_absolute_error(y, predicted_victims)\n",
    "print(mean_absolute_error(y,predicted_victims))"
   ],
   "metadata": {
    "collapsed": false,
    "pycharm": {
     "name": "#%%\n"
    }
   }
  },
  {
   "cell_type": "code",
   "execution_count": 6,
   "outputs": [
    {
     "name": "stdout",
     "output_type": "stream",
     "text": [
      "11669.59633027523\n"
     ]
    }
   ],
   "source": [
    "from sklearn.model_selection import train_test_split\n",
    "\n",
    "# splitting the data into training and validation data\n",
    "\n",
    "train_X,val_X,train_y,val_y = train_test_split(X,y, random_state=1)\n",
    "\n",
    "# Fit model\n",
    "pK_model = DecisionTreeRegressor()\n",
    "pK_model.fit(train_X, train_y)\n",
    "\n",
    "# Get predicted victims on validation data\n",
    "val_predictions = pK_model.predict(val_X)\n",
    "print(mean_absolute_error(val_y, val_predictions))"
   ],
   "metadata": {
    "collapsed": false,
    "pycharm": {
     "name": "#%%\n"
    }
   }
  },
  {
   "cell_type": "code",
   "execution_count": 7,
   "outputs": [
    {
     "name": "stdout",
     "output_type": "stream",
     "text": [
      "Max leaf nodes: 5 \t\t Mean Absolute Error: 9259\n",
      "Max leaf nodes: 50 \t\t Mean Absolute Error: 10385\n",
      "Max leaf nodes: 500 \t\t Mean Absolute Error: 11847\n",
      "Max leaf nodes: 5000 \t\t Mean Absolute Error: 11847\n"
     ]
    }
   ],
   "source": [
    "from sklearn.metrics import mean_absolute_error\n",
    "from sklearn.tree import DecisionTreeRegressor\n",
    "\n",
    "def get_mae(max_leaf_nodes, train_X, val_X, train_y, val_y):\n",
    "    model = DecisionTreeRegressor(max_leaf_nodes=max_leaf_nodes, random_state=0)\n",
    "    model.fit(train_X,train_y)\n",
    "    preds_val = model.predict(val_X)\n",
    "    mae = mean_absolute_error(val_y, preds_val)\n",
    "    return(mae)\n",
    "\n",
    "for max_leaf_nodes in [5, 50, 500, 5000]:\n",
    "    my_mae = get_mae(max_leaf_nodes, train_X, val_X, train_y, val_y)\n",
    "    print(\"Max leaf nodes: %d \\t\\t Mean Absolute Error: %d\" %(max_leaf_nodes, my_mae))"
   ],
   "metadata": {
    "collapsed": false,
    "pycharm": {
     "name": "#%%\n"
    }
   }
  },
  {
   "cell_type": "code",
   "execution_count": 9,
   "outputs": [
    {
     "name": "stdout",
     "output_type": "stream",
     "text": [
      "8638.100733944953\n"
     ]
    }
   ],
   "source": [
    "from sklearn.ensemble import RandomForestRegressor\n",
    "from sklearn.metrics import mean_absolute_error\n",
    "\n",
    "forest_model = RandomForestRegressor(random_state=1)\n",
    "forest_model.fit(train_X, train_y)\n",
    "preds = forest_model.predict(val_X)\n",
    "print(mean_absolute_error(preds, val_y))\n",
    "\n"
   ],
   "metadata": {
    "collapsed": false,
    "pycharm": {
     "name": "#%%\n"
    }
   }
  }
 ],
 "metadata": {
  "kernelspec": {
   "display_name": "Python 3",
   "language": "python",
   "name": "python3"
  },
  "language_info": {
   "codemirror_mode": {
    "name": "ipython",
    "version": 2
   },
   "file_extension": ".py",
   "mimetype": "text/x-python",
   "name": "python",
   "nbconvert_exporter": "python",
   "pygments_lexer": "ipython2",
   "version": "2.7.6"
  }
 },
 "nbformat": 4,
 "nbformat_minor": 0
}