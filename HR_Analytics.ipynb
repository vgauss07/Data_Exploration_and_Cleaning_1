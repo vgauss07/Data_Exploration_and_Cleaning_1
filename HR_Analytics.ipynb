{
 "cells": [
  {
   "cell_type": "code",
   "execution_count": 1,
   "outputs": [
    {
     "name": "stdout",
     "output_type": "stream",
     "text": [
      "               Age  DistanceFromHome    Education  EmployeeCount   EmployeeID  \\\n",
      "count  4410.000000       4410.000000  4410.000000         4410.0  4410.000000   \n",
      "mean     36.923810          9.192517     2.912925            1.0  2205.500000   \n",
      "std       9.133301          8.105026     1.023933            0.0  1273.201673   \n",
      "min      18.000000          1.000000     1.000000            1.0     1.000000   \n",
      "25%      30.000000          2.000000     2.000000            1.0  1103.250000   \n",
      "50%      36.000000          7.000000     3.000000            1.0  2205.500000   \n",
      "75%      43.000000         14.000000     4.000000            1.0  3307.750000   \n",
      "max      60.000000         29.000000     5.000000            1.0  4410.000000   \n",
      "\n",
      "          JobLevel  MonthlyIncome  NumCompaniesWorked  PercentSalaryHike  \\\n",
      "count  4410.000000    4410.000000         4391.000000        4410.000000   \n",
      "mean      2.063946   65029.312925            2.694830          15.209524   \n",
      "std       1.106689   47068.888559            2.498887           3.659108   \n",
      "min       1.000000   10090.000000            0.000000          11.000000   \n",
      "25%       1.000000   29110.000000            1.000000          12.000000   \n",
      "50%       2.000000   49190.000000            2.000000          14.000000   \n",
      "75%       3.000000   83800.000000            4.000000          18.000000   \n",
      "max       5.000000  199990.000000            9.000000          25.000000   \n",
      "\n",
      "       StandardHours  StockOptionLevel  TotalWorkingYears  \\\n",
      "count         4410.0       4410.000000        4401.000000   \n",
      "mean             8.0          0.793878          11.279936   \n",
      "std              0.0          0.851883           7.782222   \n",
      "min              8.0          0.000000           0.000000   \n",
      "25%              8.0          0.000000           6.000000   \n",
      "50%              8.0          1.000000          10.000000   \n",
      "75%              8.0          1.000000          15.000000   \n",
      "max              8.0          3.000000          40.000000   \n",
      "\n",
      "       TrainingTimesLastYear  YearsAtCompany  YearsSinceLastPromotion  \\\n",
      "count            4410.000000     4410.000000              4410.000000   \n",
      "mean                2.799320        7.008163                 2.187755   \n",
      "std                 1.288978        6.125135                 3.221699   \n",
      "min                 0.000000        0.000000                 0.000000   \n",
      "25%                 2.000000        3.000000                 0.000000   \n",
      "50%                 3.000000        5.000000                 1.000000   \n",
      "75%                 3.000000        9.000000                 3.000000   \n",
      "max                 6.000000       40.000000                15.000000   \n",
      "\n",
      "       YearsWithCurrManager  \n",
      "count           4410.000000  \n",
      "mean               4.123129  \n",
      "std                3.567327  \n",
      "min                0.000000  \n",
      "25%                2.000000  \n",
      "50%                3.000000  \n",
      "75%                7.000000  \n",
      "max               17.000000  \n",
      "       DistanceFromHome  TotalWorkingYears          Age  YearsAtCompany  \\\n",
      "count       4382.000000        4382.000000  4382.000000     4382.000000   \n",
      "mean           9.198996          11.290278    36.933364        7.010497   \n",
      "std            8.105396           7.785717     9.137272        6.129351   \n",
      "min            1.000000           0.000000    18.000000        0.000000   \n",
      "25%            2.000000           6.000000    30.000000        3.000000   \n",
      "50%            7.000000          10.000000    36.000000        5.000000   \n",
      "75%           14.000000          15.000000    43.000000        9.000000   \n",
      "max           29.000000          40.000000    60.000000       40.000000   \n",
      "\n",
      "       PercentSalaryHike  \n",
      "count        4382.000000  \n",
      "mean           15.210634  \n",
      "std             3.663007  \n",
      "min            11.000000  \n",
      "25%            12.000000  \n",
      "50%            14.000000  \n",
      "75%            18.000000  \n",
      "max            25.000000  \n"
     ]
    },
    {
     "data": {
      "text/plain": "   DistanceFromHome  TotalWorkingYears  Age  YearsAtCompany  PercentSalaryHike\n0                 6                1.0   51               1                 11\n1                10                6.0   31               5                 23\n2                17                5.0   32               5                 15\n3                 2               13.0   38               8                 11\n4                10                9.0   32               6                 12",
      "text/html": "<div>\n<style scoped>\n    .dataframe tbody tr th:only-of-type {\n        vertical-align: middle;\n    }\n\n    .dataframe tbody tr th {\n        vertical-align: top;\n    }\n\n    .dataframe thead th {\n        text-align: right;\n    }\n</style>\n<table border=\"1\" class=\"dataframe\">\n  <thead>\n    <tr style=\"text-align: right;\">\n      <th></th>\n      <th>DistanceFromHome</th>\n      <th>TotalWorkingYears</th>\n      <th>Age</th>\n      <th>YearsAtCompany</th>\n      <th>PercentSalaryHike</th>\n    </tr>\n  </thead>\n  <tbody>\n    <tr>\n      <th>0</th>\n      <td>6</td>\n      <td>1.0</td>\n      <td>51</td>\n      <td>1</td>\n      <td>11</td>\n    </tr>\n    <tr>\n      <th>1</th>\n      <td>10</td>\n      <td>6.0</td>\n      <td>31</td>\n      <td>5</td>\n      <td>23</td>\n    </tr>\n    <tr>\n      <th>2</th>\n      <td>17</td>\n      <td>5.0</td>\n      <td>32</td>\n      <td>5</td>\n      <td>15</td>\n    </tr>\n    <tr>\n      <th>3</th>\n      <td>2</td>\n      <td>13.0</td>\n      <td>38</td>\n      <td>8</td>\n      <td>11</td>\n    </tr>\n    <tr>\n      <th>4</th>\n      <td>10</td>\n      <td>9.0</td>\n      <td>32</td>\n      <td>6</td>\n      <td>12</td>\n    </tr>\n  </tbody>\n</table>\n</div>"
     },
     "execution_count": 1,
     "metadata": {},
     "output_type": "execute_result"
    }
   ],
   "source": [
    "import numpy as np\n",
    "import pandas as pd\n",
    "\n",
    "hrAnalytics_path = '/Users/vokeojuederhie/PycharmProjects/general_data.csv'\n",
    "\n",
    "# using pandas to get familiar with the data\n",
    "# read data using pandas\n",
    "# load the data\n",
    "\n",
    "hrAnalytics_data = pd.read_csv(hrAnalytics_path)\n",
    "\n",
    "print(hrAnalytics_data.describe())\n",
    "\n",
    "hrAnalytics_data.columns\n",
    "\n",
    "# dropna drops missing values (na = not available)\n",
    "hrAnalytics_data = hrAnalytics_data.dropna(axis=0)\n",
    "\n",
    "# highlight column 'Monthly income'\n",
    "\n",
    "y = hrAnalytics_data.JobLevel\n",
    "\n",
    "hrAnalytics_features = ['DistanceFromHome', 'TotalWorkingYears', 'Age', 'YearsAtCompany', 'PercentSalaryHike']\n",
    "\n",
    "X = hrAnalytics_data[hrAnalytics_features]\n",
    "\n",
    "print(X.describe())\n",
    "\n",
    "X.head()\n"
   ],
   "metadata": {
    "collapsed": false,
    "pycharm": {
     "name": "#%%\n"
    }
   }
  },
  {
   "cell_type": "code",
   "execution_count": 2,
   "outputs": [
    {
     "data": {
      "text/plain": "DecisionTreeRegressor(ccp_alpha=0.0, criterion='mse', max_depth=None,\n                      max_features=None, max_leaf_nodes=None,\n                      min_impurity_decrease=0.0, min_impurity_split=None,\n                      min_samples_leaf=1, min_samples_split=2,\n                      min_weight_fraction_leaf=0.0, presort='deprecated',\n                      random_state=1, splitter='best')"
     },
     "execution_count": 2,
     "metadata": {},
     "output_type": "execute_result"
    }
   ],
   "source": [
    "# Model Specification\n",
    "from sklearn.tree import DecisionTreeRegressor\n",
    "\n",
    "# Define model. specify a number of random states\n",
    "# to ensure same results each run\n",
    "\n",
    "hrAnalytics_model = DecisionTreeRegressor(random_state=1)\n",
    "\n",
    "# Fit model\n",
    "\n",
    "hrAnalytics_model.fit(X,y)\n"
   ],
   "metadata": {
    "collapsed": false,
    "pycharm": {
     "name": "#%%\n"
    }
   }
  },
  {
   "cell_type": "code",
   "execution_count": 3,
   "outputs": [
    {
     "name": "stdout",
     "output_type": "stream",
     "text": [
      "Making predictions for the first five Employees:\n",
      "   DistanceFromHome  TotalWorkingYears  Age  YearsAtCompany  PercentSalaryHike\n",
      "0                 6                1.0   51               1                 11\n",
      "1                10                6.0   31               5                 23\n",
      "2                17                5.0   32               5                 15\n",
      "3                 2               13.0   38               8                 11\n",
      "4                10                9.0   32               6                 12\n",
      "The predictions are: \n",
      "[1. 1. 4. 3. 1.]\n"
     ]
    }
   ],
   "source": [
    "print(\"Making predictions for the first five Employees:\")\n",
    "print(X.head())\n",
    "print(\"The predictions are: \")\n",
    "print(hrAnalytics_model.predict(X.head()))"
   ],
   "metadata": {
    "collapsed": false,
    "pycharm": {
     "name": "#%%\n"
    }
   }
  },
  {
   "cell_type": "code",
   "execution_count": 4,
   "outputs": [
    {
     "data": {
      "text/plain": "0.006846188954815153"
     },
     "execution_count": 4,
     "metadata": {},
     "output_type": "execute_result"
    }
   ],
   "source": [
    "# Model Validation\n",
    "\n",
    "from sklearn.metrics import mean_absolute_error\n",
    "predicted_JobLevel = hrAnalytics_model.predict(X)\n",
    "mean_absolute_error(y, predicted_JobLevel)\n",
    "\n",
    "# This gives the \"in-sample\" score."
   ],
   "metadata": {
    "collapsed": false,
    "pycharm": {
     "name": "#%%\n"
    }
   }
  },
  {
   "cell_type": "code",
   "execution_count": 5,
   "outputs": [
    {
     "name": "stdout",
     "output_type": "stream",
     "text": [
      "0.06925182481751825\n"
     ]
    }
   ],
   "source": [
    "# Model Selection\n",
    "\n",
    "from sklearn.model_selection import train_test_split\n",
    "\n",
    "# split data into training and validation data\n",
    "# the split is based on a random number generator.\n",
    "# Supplying a numeric value to the random state argument\n",
    "# guarantees we get the same split every time we run this script\n",
    "\n",
    "train_X, val_X, train_y, val_y = train_test_split(X, y, random_state=0)\n",
    "\n",
    "# Define Model\n",
    "hrAnalytics_model = DecisionTreeRegressor()\n",
    "# Fit model\n",
    "hrAnalytics_model.fit(train_X, train_y)\n",
    "\n",
    "# get predicted JobLevel on validation data\n",
    "val_predictions = hrAnalytics_model.predict(val_X)\n",
    "print(mean_absolute_error(val_y, val_predictions))\n",
    "\n"
   ],
   "metadata": {
    "collapsed": false,
    "pycharm": {
     "name": "#%%\n"
    }
   }
  }
 ],
 "metadata": {
  "kernelspec": {
   "display_name": "Python 3",
   "language": "python",
   "name": "python3"
  },
  "language_info": {
   "codemirror_mode": {
    "name": "ipython",
    "version": 2
   },
   "file_extension": ".py",
   "mimetype": "text/x-python",
   "name": "python",
   "nbconvert_exporter": "python",
   "pygments_lexer": "ipython2",
   "version": "2.7.6"
  }
 },
 "nbformat": 4,
 "nbformat_minor": 0
}